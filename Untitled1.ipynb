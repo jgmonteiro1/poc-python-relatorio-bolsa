{
 "cells": [
  {
   "cell_type": "code",
   "execution_count": 1,
   "id": "ebd3ea0b",
   "metadata": {},
   "outputs": [
    {
     "name": "stdout",
     "output_type": "stream",
     "text": [
      "[*********************100%***********************]  3 of 3 completed\n",
      "\n",
      "3 Failed downloads:\n",
      "- TAEE11.SA: No data found for this date range, symbol may be delisted\n",
      "- JBSS3.SA: No data found for this date range, symbol may be delisted\n",
      "- MRFG3.SA: No data found for this date range, symbol may be delisted\n",
      "Empty DataFrame\n",
      "Columns: [(Adj Close, JBSS3.SA), (Adj Close, MRFG3.SA), (Adj Close, TAEE11.SA), (Close, JBSS3.SA), (Close, MRFG3.SA), (Close, TAEE11.SA), (High, JBSS3.SA), (High, MRFG3.SA), (High, TAEE11.SA), (Low, JBSS3.SA), (Low, MRFG3.SA), (Low, TAEE11.SA), (Open, JBSS3.SA), (Open, MRFG3.SA), (Open, TAEE11.SA), (Volume, JBSS3.SA), (Volume, MRFG3.SA), (Volume, TAEE11.SA)]\n",
      "Index: []\n"
     ]
    }
   ],
   "source": [
    "# import panda as pd\n",
    "import datetime\n",
    "\n",
    "import yfinance as yf\n",
    "\n",
    "# from matplotlib import pyplot as plt\n",
    "# import mplcyberpunk\n",
    "# import smtplib\n",
    "# from email.message import EmailMessage\n",
    "\n",
    "\n",
    "listaAtivos = [\"MRFG3.SA\", \"JBSS3.SA\", \"TAEE11.SA\"]\n",
    "\n",
    "dataAtual = datetime.datetime.now()\n",
    "\n",
    "anoAnterior = dataAtual - datetime.timedelta(days=365)\n",
    "\n",
    "dadosMercado = yf.download(listaAtivos, anoAnterior, dataAtual)\n",
    "\n",
    "print(dadosMercado)\n",
    "\n",
    "dadosFechamento = dadosMercado['Adj Close'], ['MRFG3.SA']\n",
    "# dadosFechamento.colums = ['dolar', 'ibovespa']"
   ]
  },
  {
   "cell_type": "code",
   "execution_count": 3,
   "id": "cd81a77e",
   "metadata": {},
   "outputs": [
    {
     "name": "stdout",
     "output_type": "stream",
     "text": [
      "[*********************100%***********************]  3 of 3 completed\n",
      "\n",
      "3 Failed downloads:\n",
      "- TAEE11.SA: No data found for this date range, symbol may be delisted\n",
      "- GGBR4.SA: No data found for this date range, symbol may be delisted\n",
      "- JBSS3.SA: No data found for this date range, symbol may be delisted\n",
      "Empty DataFrame\n",
      "Columns: [(Adj Close, GGBR4.SA), (Adj Close, JBSS3.SA), (Adj Close, TAEE11.SA), (Close, GGBR4.SA), (Close, JBSS3.SA), (Close, TAEE11.SA), (High, GGBR4.SA), (High, JBSS3.SA), (High, TAEE11.SA), (Low, GGBR4.SA), (Low, JBSS3.SA), (Low, TAEE11.SA), (Open, GGBR4.SA), (Open, JBSS3.SA), (Open, TAEE11.SA), (Volume, GGBR4.SA), (Volume, JBSS3.SA), (Volume, TAEE11.SA)]\n",
      "Index: []\n"
     ]
    }
   ],
   "source": [
    "# import panda as pd\n",
    "import datetime\n",
    "\n",
    "import yfinance as yf\n",
    "\n",
    "# from matplotlib import pyplot as plt\n",
    "# import mplcyberpunk\n",
    "# import smtplib\n",
    "# from email.message import EmailMessage\n",
    "\n",
    "\n",
    "listaAtivos = [\"GGBR4.SA\", \"JBSS3.SA\", \"TAEE11.SA\", \"GGBR4.SA\"]\n",
    "\n",
    "dataAtual = datetime.datetime.now()\n",
    "\n",
    "\n",
    "dadosMercado = yf.download(listaAtivos, anoAnterior, dataAtual)\n",
    "\n",
    "print(dadosMercado)\n"
   ]
  },
  {
   "cell_type": "code",
   "execution_count": 4,
   "id": "1aca96d7",
   "metadata": {},
   "outputs": [
    {
     "name": "stdout",
     "output_type": "stream",
     "text": [
      "[*********************100%***********************]  2 of 2 completed\n",
      "\n",
      "2 Failed downloads:\n",
      "- BRL=X: No data found for this date range, symbol may be delisted\n",
      "- ^BVSP: No data found for this date range, symbol may be delisted\n",
      "Empty DataFrame\n",
      "Columns: [(Adj Close, BRL=X), (Adj Close, ^BVSP), (Close, BRL=X), (Close, ^BVSP), (High, BRL=X), (High, ^BVSP), (Low, BRL=X), (Low, ^BVSP), (Open, BRL=X), (Open, ^BVSP), (Volume, BRL=X), (Volume, ^BVSP)]\n",
      "Index: []\n"
     ]
    }
   ],
   "source": [
    "# import panda as pd\n",
    "import datetime\n",
    "\n",
    "import yfinance as yf\n",
    "\n",
    "# from matplotlib import pyplot as plt\n",
    "# import mplcyberpunk\n",
    "# import smtplib\n",
    "# from email.message import EmailMessage\n",
    "\n",
    "\n",
    "listaAtivos = [\"^BVSP\", \"BRL=X\"]\n",
    "\n",
    "dataAtual = datetime.datetime.now()\n",
    "\n",
    "anoAnterior = dataAtual - datetime.timedelta(days=365)\n",
    "\n",
    "dadosMercado = yf.download(listaAtivos, anoAnterior, dataAtual)\n",
    "\n",
    "print(dadosMercado)\n",
    "\n"
   ]
  },
  {
   "cell_type": "code",
   "execution_count": 5,
   "id": "455b8a17",
   "metadata": {},
   "outputs": [
    {
     "name": "stdout",
     "output_type": "stream",
     "text": [
      "Collecting yfinance==0.1.74\n",
      "  Using cached yfinance-0.1.74-py2.py3-none-any.whl (27 kB)\n",
      "Requirement already satisfied: pandas>=0.24.0 in c:\\users\\jgmor\\appdata\\local\\programs\\python\\python311\\lib\\site-packages (from yfinance==0.1.74) (2.0.0)\n",
      "Requirement already satisfied: numpy>=1.15 in c:\\users\\jgmor\\appdata\\local\\programs\\python\\python311\\lib\\site-packages (from yfinance==0.1.74) (1.24.2)\n",
      "Requirement already satisfied: requests>=2.26 in c:\\users\\jgmor\\appdata\\local\\programs\\python\\python311\\lib\\site-packages (from yfinance==0.1.74) (2.28.2)\n",
      "Requirement already satisfied: multitasking>=0.0.7 in c:\\users\\jgmor\\appdata\\local\\programs\\python\\python311\\lib\\site-packages (from yfinance==0.1.74) (0.0.11)\n",
      "Requirement already satisfied: lxml>=4.5.1 in c:\\users\\jgmor\\appdata\\local\\programs\\python\\python311\\lib\\site-packages (from yfinance==0.1.74) (4.9.2)\n",
      "Requirement already satisfied: python-dateutil>=2.8.2 in c:\\users\\jgmor\\appdata\\local\\programs\\python\\python311\\lib\\site-packages (from pandas>=0.24.0->yfinance==0.1.74) (2.8.2)\n",
      "Requirement already satisfied: pytz>=2020.1 in c:\\users\\jgmor\\appdata\\local\\programs\\python\\python311\\lib\\site-packages (from pandas>=0.24.0->yfinance==0.1.74) (2023.3)\n",
      "Requirement already satisfied: tzdata>=2022.1 in c:\\users\\jgmor\\appdata\\local\\programs\\python\\python311\\lib\\site-packages (from pandas>=0.24.0->yfinance==0.1.74) (2023.3)\n",
      "Requirement already satisfied: charset-normalizer<4,>=2 in c:\\users\\jgmor\\appdata\\local\\programs\\python\\python311\\lib\\site-packages (from requests>=2.26->yfinance==0.1.74) (3.1.0)\n",
      "Requirement already satisfied: idna<4,>=2.5 in c:\\users\\jgmor\\appdata\\local\\programs\\python\\python311\\lib\\site-packages (from requests>=2.26->yfinance==0.1.74) (3.4)\n",
      "Requirement already satisfied: urllib3<1.27,>=1.21.1 in c:\\users\\jgmor\\appdata\\local\\programs\\python\\python311\\lib\\site-packages (from requests>=2.26->yfinance==0.1.74) (1.26.15)\n",
      "Requirement already satisfied: certifi>=2017.4.17 in c:\\users\\jgmor\\appdata\\local\\programs\\python\\python311\\lib\\site-packages (from requests>=2.26->yfinance==0.1.74) (2022.12.7)\n",
      "Requirement already satisfied: six>=1.5 in c:\\users\\jgmor\\appdata\\local\\programs\\python\\python311\\lib\\site-packages (from python-dateutil>=2.8.2->pandas>=0.24.0->yfinance==0.1.74) (1.16.0)\n",
      "Installing collected packages: yfinance\n",
      "  Attempting uninstall: yfinance\n",
      "    Found existing installation: yfinance 0.2.14\n",
      "    Uninstalling yfinance-0.2.14:\n",
      "      Successfully uninstalled yfinance-0.2.14\n",
      "Successfully installed yfinance-0.1.74\n"
     ]
    }
   ],
   "source": [
    "!pip install yfinance==0.1.74"
   ]
  },
  {
   "cell_type": "code",
   "execution_count": 6,
   "id": "9669b478",
   "metadata": {},
   "outputs": [
    {
     "name": "stdout",
     "output_type": "stream",
     "text": [
      "[*********************100%***********************]  2 of 2 completed\n",
      "\n",
      "2 Failed downloads:\n",
      "- BRL=X: No data found for this date range, symbol may be delisted\n",
      "- ^BVSP: No data found for this date range, symbol may be delisted\n",
      "Empty DataFrame\n",
      "Columns: [(Adj Close, BRL=X), (Adj Close, ^BVSP), (Close, BRL=X), (Close, ^BVSP), (High, BRL=X), (High, ^BVSP), (Low, BRL=X), (Low, ^BVSP), (Open, BRL=X), (Open, ^BVSP), (Volume, BRL=X), (Volume, ^BVSP)]\n",
      "Index: []\n"
     ]
    }
   ],
   "source": [
    "# import panda as pd\n",
    "import datetime\n",
    "\n",
    "import yfinance as yf\n",
    "\n",
    "# from matplotlib import pyplot as plt\n",
    "# import mplcyberpunk\n",
    "# import smtplib\n",
    "# from email.message import EmailMessage\n",
    "\n",
    "\n",
    "listaAtivos = [\"^BVSP\", \"BRL=X\"]\n",
    "\n",
    "dataAtual = datetime.datetime.now()\n",
    "\n",
    "anoAnterior = dataAtual - datetime.timedelta(days=365)\n",
    "\n",
    "dadosMercado = yf.download(listaAtivos, anoAnterior, dataAtual)\n",
    "\n",
    "print(dadosMercado)"
   ]
  },
  {
   "cell_type": "code",
   "execution_count": 7,
   "id": "408af591",
   "metadata": {},
   "outputs": [
    {
     "name": "stdout",
     "output_type": "stream",
     "text": [
      "[*********************100%***********************]  3 of 3 completed\n",
      "\n",
      "3 Failed downloads:\n",
      "- MRFG3.SA: No data found for this date range, symbol may be delisted\n",
      "- TAEE11.SA: No data found for this date range, symbol may be delisted\n",
      "- JBSS3.SA: No data found for this date range, symbol may be delisted\n",
      "Empty DataFrame\n",
      "Columns: [(Adj Close, JBSS3.SA), (Adj Close, MRFG3.SA), (Adj Close, TAEE11.SA), (Close, JBSS3.SA), (Close, MRFG3.SA), (Close, TAEE11.SA), (High, JBSS3.SA), (High, MRFG3.SA), (High, TAEE11.SA), (Low, JBSS3.SA), (Low, MRFG3.SA), (Low, TAEE11.SA), (Open, JBSS3.SA), (Open, MRFG3.SA), (Open, TAEE11.SA), (Volume, JBSS3.SA), (Volume, MRFG3.SA), (Volume, TAEE11.SA)]\n",
      "Index: []\n"
     ]
    }
   ],
   "source": [
    "# import panda as pd\n",
    "import datetime\n",
    "\n",
    "import yfinance as yf\n",
    "\n",
    "# from matplotlib import pyplot as plt\n",
    "# import mplcyberpunk\n",
    "# import smtplib\n",
    "# from email.message import EmailMessage\n",
    "\n",
    "\n",
    "listaAtivos = [\"MRFG3.SA\", \"JBSS3.SA\", \"TAEE11.SA\"]\n",
    "\n",
    "dataAtual = datetime.datetime.now()\n",
    "\n",
    "anoAnterior = dataAtual - datetime.timedelta(days=365)\n",
    "\n",
    "dadosMercado = yf.download(listaAtivos, anoAnterior, dataAtual)\n",
    "\n",
    "print(dadosMercado)\n",
    "\n",
    "dadosFechamento = dadosMercado['Adj Close'], ['MRFG3.SA']\n",
    "# dadosFechamento.colums = ['dolar', 'ibovespa']"
   ]
  },
  {
   "cell_type": "code",
   "execution_count": null,
   "id": "ec31f9e5",
   "metadata": {},
   "outputs": [],
   "source": []
  }
 ],
 "metadata": {
  "kernelspec": {
   "display_name": "Python 3 (ipykernel)",
   "language": "python",
   "name": "python3"
  },
  "language_info": {
   "codemirror_mode": {
    "name": "ipython",
    "version": 3
   },
   "file_extension": ".py",
   "mimetype": "text/x-python",
   "name": "python",
   "nbconvert_exporter": "python",
   "pygments_lexer": "ipython3",
   "version": "3.11.2"
  }
 },
 "nbformat": 4,
 "nbformat_minor": 5
}
